{
 "cells": [
  {
   "cell_type": "markdown",
   "id": "alert-characteristic",
   "metadata": {},
   "source": [
    "# Develop a simple Message Classifier"
   ]
  },
  {
   "cell_type": "markdown",
   "id": "signal-naples",
   "metadata": {},
   "source": [
    "### libraries"
   ]
  },
  {
   "cell_type": "code",
   "execution_count": 1,
   "id": "compound-recommendation",
   "metadata": {},
   "outputs": [],
   "source": [
    "import pandas as pd\n",
    "from sklearn.feature_extraction.text import CountVectorizer\n",
    "from sklearn.model_selection import train_test_split\n",
    "from sklearn.naive_bayes import MultinomialNB\n",
    "from sklearn.metrics import classification_report\n",
    "import joblib\n",
    "from pathlib import Path"
   ]
  },
  {
   "cell_type": "code",
   "execution_count": 2,
   "id": "interpreted-shipping",
   "metadata": {},
   "outputs": [
    {
     "data": {
      "text/html": [
       "<div>\n",
       "<style scoped>\n",
       "    .dataframe tbody tr th:only-of-type {\n",
       "        vertical-align: middle;\n",
       "    }\n",
       "\n",
       "    .dataframe tbody tr th {\n",
       "        vertical-align: top;\n",
       "    }\n",
       "\n",
       "    .dataframe thead th {\n",
       "        text-align: right;\n",
       "    }\n",
       "</style>\n",
       "<table border=\"1\" class=\"dataframe\">\n",
       "  <thead>\n",
       "    <tr style=\"text-align: right;\">\n",
       "      <th></th>\n",
       "      <th>v1</th>\n",
       "      <th>v2</th>\n",
       "      <th>Unnamed: 2</th>\n",
       "      <th>Unnamed: 3</th>\n",
       "      <th>Unnamed: 4</th>\n",
       "    </tr>\n",
       "  </thead>\n",
       "  <tbody>\n",
       "    <tr>\n",
       "      <th>3266</th>\n",
       "      <td>ham</td>\n",
       "      <td>Ok then i come n pick u at engin?</td>\n",
       "      <td>NaN</td>\n",
       "      <td>NaN</td>\n",
       "      <td>NaN</td>\n",
       "    </tr>\n",
       "    <tr>\n",
       "      <th>1212</th>\n",
       "      <td>ham</td>\n",
       "      <td>Yo, the game almost over? Want to go to walmar...</td>\n",
       "      <td>NaN</td>\n",
       "      <td>NaN</td>\n",
       "      <td>NaN</td>\n",
       "    </tr>\n",
       "    <tr>\n",
       "      <th>1066</th>\n",
       "      <td>ham</td>\n",
       "      <td>Once free call me sir. I am waiting for you.</td>\n",
       "      <td>NaN</td>\n",
       "      <td>NaN</td>\n",
       "      <td>NaN</td>\n",
       "    </tr>\n",
       "  </tbody>\n",
       "</table>\n",
       "</div>"
      ],
      "text/plain": [
       "       v1                                                 v2 Unnamed: 2  \\\n",
       "3266  ham                  Ok then i come n pick u at engin?        NaN   \n",
       "1212  ham  Yo, the game almost over? Want to go to walmar...        NaN   \n",
       "1066  ham       Once free call me sir. I am waiting for you.        NaN   \n",
       "\n",
       "     Unnamed: 3 Unnamed: 4  \n",
       "3266        NaN        NaN  \n",
       "1212        NaN        NaN  \n",
       "1066        NaN        NaN  "
      ]
     },
     "execution_count": 2,
     "metadata": {},
     "output_type": "execute_result"
    }
   ],
   "source": [
    "cwd = Path.cwd().parent\n",
    "csv_data = cwd / 'data' / 'spam.csv'\n",
    "spam_data = pd.read_csv(csv_data, encoding=\"latin-1\")\n",
    "spam_data.sample(3)"
   ]
  },
  {
   "cell_type": "code",
   "execution_count": 3,
   "id": "vital-donor",
   "metadata": {},
   "outputs": [
    {
     "data": {
      "text/plain": [
       "\"Free entry in 2 a wkly comp to win FA Cup final tkts 21st May 2005. Text FA to 87121 to receive entry question(std txt rate)T&C's apply 08452810075over18's\""
      ]
     },
     "execution_count": 3,
     "metadata": {},
     "output_type": "execute_result"
    }
   ],
   "source": [
    "spam_data.iloc[2].v2"
   ]
  },
  {
   "cell_type": "code",
   "execution_count": 4,
   "id": "critical-discovery",
   "metadata": {},
   "outputs": [
    {
     "data": {
      "text/plain": [
       "array(['ham', 'spam'], dtype=object)"
      ]
     },
     "execution_count": 4,
     "metadata": {},
     "output_type": "execute_result"
    }
   ],
   "source": [
    "# Check the v1 column values\n",
    "spam_data.v1.unique()"
   ]
  },
  {
   "cell_type": "markdown",
   "id": "terminal-polish",
   "metadata": {},
   "source": [
    "**Observation:** we have two labels, which corresponds to a 2-class classification problem.  \n",
    "Then, we need to encode those two labels into numerical format for model training.  "
   ]
  },
  {
   "cell_type": "code",
   "execution_count": 5,
   "id": "directed-mixer",
   "metadata": {},
   "outputs": [
    {
     "data": {
      "text/html": [
       "<div>\n",
       "<style scoped>\n",
       "    .dataframe tbody tr th:only-of-type {\n",
       "        vertical-align: middle;\n",
       "    }\n",
       "\n",
       "    .dataframe tbody tr th {\n",
       "        vertical-align: top;\n",
       "    }\n",
       "\n",
       "    .dataframe thead th {\n",
       "        text-align: right;\n",
       "    }\n",
       "</style>\n",
       "<table border=\"1\" class=\"dataframe\">\n",
       "  <thead>\n",
       "    <tr style=\"text-align: right;\">\n",
       "      <th></th>\n",
       "      <th>v1</th>\n",
       "      <th>v2</th>\n",
       "      <th>Unnamed: 2</th>\n",
       "      <th>Unnamed: 3</th>\n",
       "      <th>Unnamed: 4</th>\n",
       "      <th>label</th>\n",
       "    </tr>\n",
       "  </thead>\n",
       "  <tbody>\n",
       "    <tr>\n",
       "      <th>3631</th>\n",
       "      <td>ham</td>\n",
       "      <td>Oooh I got plenty of those!</td>\n",
       "      <td>NaN</td>\n",
       "      <td>NaN</td>\n",
       "      <td>NaN</td>\n",
       "      <td>0</td>\n",
       "    </tr>\n",
       "    <tr>\n",
       "      <th>4584</th>\n",
       "      <td>spam</td>\n",
       "      <td>U have a Secret Admirer who is looking 2 make ...</td>\n",
       "      <td>NaN</td>\n",
       "      <td>NaN</td>\n",
       "      <td>NaN</td>\n",
       "      <td>1</td>\n",
       "    </tr>\n",
       "    <tr>\n",
       "      <th>938</th>\n",
       "      <td>spam</td>\n",
       "      <td>Urgent! call 09061749602 from Landline. Your c...</td>\n",
       "      <td>NaN</td>\n",
       "      <td>NaN</td>\n",
       "      <td>NaN</td>\n",
       "      <td>1</td>\n",
       "    </tr>\n",
       "  </tbody>\n",
       "</table>\n",
       "</div>"
      ],
      "text/plain": [
       "        v1                                                 v2 Unnamed: 2  \\\n",
       "3631   ham                        Oooh I got plenty of those!        NaN   \n",
       "4584  spam  U have a Secret Admirer who is looking 2 make ...        NaN   \n",
       "938   spam  Urgent! call 09061749602 from Landline. Your c...        NaN   \n",
       "\n",
       "     Unnamed: 3 Unnamed: 4  label  \n",
       "3631        NaN        NaN      0  \n",
       "4584        NaN        NaN      1  \n",
       "938         NaN        NaN      1  "
      ]
     },
     "execution_count": 5,
     "metadata": {},
     "output_type": "execute_result"
    }
   ],
   "source": [
    "# Encode the ham and spam\n",
    "spam_data['label'] = spam_data['v1'].map({'ham': 0, 'spam': 1})\n",
    "spam_data.sample(3)"
   ]
  },
  {
   "cell_type": "markdown",
   "id": "velvet-shadow",
   "metadata": {},
   "source": [
    "**Observation:** we created the new column and we are now going to keep the following two columns:  \n",
    "- **v2** for X   \n",
    "- **label**  for y"
   ]
  },
  {
   "cell_type": "code",
   "execution_count": 6,
   "id": "optional-spine",
   "metadata": {},
   "outputs": [],
   "source": [
    "X = spam_data['v2']\n",
    "y = spam_data['label']"
   ]
  },
  {
   "cell_type": "markdown",
   "id": "sacred-complex",
   "metadata": {},
   "source": [
    "### Model Training.    \n",
    "Since the goal is mainly about deploying the model with streamlit, we won't spend time on finding the best model, but a very simple one (Naive Bayes in our case), in order to continue the deployment process.  "
   ]
  },
  {
   "cell_type": "code",
   "execution_count": 7,
   "id": "expanded-muscle",
   "metadata": {},
   "outputs": [
    {
     "name": "stdout",
     "output_type": "stream",
     "text": [
      "              precision    recall  f1-score   support\n",
      "\n",
      "           0       0.99      0.99      0.99      1594\n",
      "           1       0.95      0.93      0.94       245\n",
      "\n",
      "    accuracy                           0.98      1839\n",
      "   macro avg       0.97      0.96      0.96      1839\n",
      "weighted avg       0.98      0.98      0.98      1839\n",
      "\n"
     ]
    }
   ],
   "source": [
    "cv = CountVectorizer()\n",
    "X = cv.fit_transform(X) # Fit the Data\n",
    "\n",
    "X_train, X_test, y_train, y_test = train_test_split(X, y, test_size=0.33, random_state=2021)\n",
    "\n",
    "#Naive Bayes Classifier\n",
    "clf = MultinomialNB()\n",
    "clf.fit(X_train,y_train)\n",
    "clf.score(X_test,y_test)\n",
    "y_pred = clf.predict(X_test)\n",
    "print(classification_report(y_test, y_pred))"
   ]
  },
  {
   "cell_type": "code",
   "execution_count": 8,
   "id": "optimum-transport",
   "metadata": {},
   "outputs": [
    {
     "data": {
      "text/plain": [
       "['/mnt/sda3/home/marcelbittar/pyproj/spam_ml/app/ml_models/spam_detector_model.pkl']"
      ]
     },
     "execution_count": 8,
     "metadata": {},
     "output_type": "execute_result"
    }
   ],
   "source": [
    "# Persist the model\n",
    "spam_detect_pkl = cwd / 'ml_models' / 'spam_detector_model.pkl'\n",
    "joblib.dump(clf, spam_detect_pkl)"
   ]
  }
 ],
 "metadata": {
  "kernelspec": {
   "display_name": "Python 3",
   "language": "python",
   "name": "python3"
  },
  "language_info": {
   "codemirror_mode": {
    "name": "ipython",
    "version": 3
   },
   "file_extension": ".py",
   "mimetype": "text/x-python",
   "name": "python",
   "nbconvert_exporter": "python",
   "pygments_lexer": "ipython3",
   "version": "3.9.2"
  },
  "toc": {
   "base_numbering": 1,
   "nav_menu": {},
   "number_sections": true,
   "sideBar": true,
   "skip_h1_title": false,
   "title_cell": "Table of Contents",
   "title_sidebar": "Contents",
   "toc_cell": false,
   "toc_position": {},
   "toc_section_display": true,
   "toc_window_display": false
  }
 },
 "nbformat": 4,
 "nbformat_minor": 5
}
